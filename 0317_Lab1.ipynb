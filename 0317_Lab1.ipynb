{
  "nbformat": 4,
  "nbformat_minor": 0,
  "metadata": {
    "kernelspec": {
      "name": "python3",
      "display_name": "Python 3"
    },
    "colab": {
      "name": "0317_Lab1.ipynb",
      "provenance": [],
      "collapsed_sections": [
        "JBJnuX7lEmE0",
        "vxyP-U29EmE1",
        "RnKfbUCmEmE5",
        "GBCBVm3pEmE7"
      ],
      "include_colab_link": true
    },
    "accelerator": "GPU"
  },
  "cells": [
    {
      "cell_type": "markdown",
      "metadata": {
        "id": "view-in-github",
        "colab_type": "text"
      },
      "source": [
        "<a href=\"https://colab.research.google.com/github/PhantomXN/AI/blob/main/0317_Lab1.ipynb\" target=\"_parent\"><img src=\"https://colab.research.google.com/assets/colab-badge.svg\" alt=\"Open In Colab\"/></a>"
      ]
    },
    {
      "cell_type": "markdown",
      "metadata": {
        "id": "LgCUaHtQEmEp"
      },
      "source": [
        "# 李俊佑 TensorFlow 2.0 介紹"
      ]
    },
    {
      "cell_type": "markdown",
      "metadata": {
        "id": "7eQNQY8AEmEt"
      },
      "source": [
        "<table class=\"tfo-notebook-buttons\" align=\"left\">\n",
        "  <td>\n",
        "    <a target=\"_blank\" href=\"https://colab.research.google.com/github/taipeitechmmslab/MMSLAB-TF2/blob/master/Lab1.ipynb\"><img src=\"https://www.tensorflow.org/images/colab_logo_32px.png\" />Run in Google Colab</a>\n",
        "  </td>\n",
        "  <td>\n",
        "    <a target=\"_blank\" href=\"https://github.com/taipeitechmmslab/MMSLAB-TF2/blob/master/Lab1.ipynb\"><img src=\"https://www.tensorflow.org/images/GitHub-Mark-32px.png\" />View source on GitHub</a>\n",
        "  </td>\n",
        "</table>"
      ]
    },
    {
      "cell_type": "code",
      "metadata": {
        "id": "3IV07-t9EmEu"
      },
      "source": [
        "import tensorflow as tf"
      ],
      "execution_count": null,
      "outputs": []
    },
    {
      "cell_type": "markdown",
      "metadata": {
        "id": "Rnhj3ty0EmEu"
      },
      "source": [
        "TensorFlow 的基本型態："
      ]
    },
    {
      "cell_type": "code",
      "metadata": {
        "scrolled": true,
        "id": "wGFewpKNEmEv",
        "colab": {
          "base_uri": "https://localhost:8080/"
        },
        "outputId": "470a345a-ad6a-4b71-f761-9bea8268264a"
      },
      "source": [
        "# 產生一個常數\n",
        "c = tf.constant(1)\n",
        "# 產生一個變數\n",
        "v = tf.Variable(1)\n",
        "print(c)\n",
        "print(v)"
      ],
      "execution_count": null,
      "outputs": [
        {
          "output_type": "stream",
          "text": [
            "tf.Tensor(1, shape=(), dtype=int32)\n",
            "<tf.Variable 'Variable:0' shape=() dtype=int32, numpy=1>\n"
          ],
          "name": "stdout"
        }
      ]
    },
    {
      "cell_type": "markdown",
      "metadata": {
        "id": "ycP23dQ6EmEw"
      },
      "source": [
        "零階張量稱為標量。"
      ]
    },
    {
      "cell_type": "code",
      "metadata": {
        "id": "STh5irfQEmEw",
        "colab": {
          "base_uri": "https://localhost:8080/"
        },
        "outputId": "57490d57-0b5b-4550-d187-016863a95ef8"
      },
      "source": [
        "import tensorflow as tf\n",
        "x = tf.constant(4)\n",
        "print(x)  # 顯示Tensor 常數資訊，Shape=()表示標量，dtype=int32 表示整數\n",
        "print(\"{} 階Tensor\".format(x.ndim))  # 顯示Tensor 的維度"
      ],
      "execution_count": null,
      "outputs": [
        {
          "output_type": "stream",
          "text": [
            "tf.Tensor(4, shape=(), dtype=int32)\n",
            "0 階Tensor\n"
          ],
          "name": "stdout"
        }
      ]
    },
    {
      "cell_type": "markdown",
      "metadata": {
        "id": "s5qgqSm8EmEw"
      },
      "source": [
        "一階張量稱為向量。"
      ]
    },
    {
      "cell_type": "code",
      "metadata": {
        "id": "O_NRniTPEmEw",
        "colab": {
          "base_uri": "https://localhost:8080/"
        },
        "outputId": "2c03e962-3785-474e-b7d8-8fe8cf0d524a"
      },
      "source": [
        "x = tf.constant([1, 2, 3, 4, 5, 6]) \n",
        "print(\"{}階Tensor \".format(x.ndim))    # 顯示Tensor的維度"
      ],
      "execution_count": null,
      "outputs": [
        {
          "output_type": "stream",
          "text": [
            "1階Tensor \n"
          ],
          "name": "stdout"
        }
      ]
    },
    {
      "cell_type": "markdown",
      "metadata": {
        "id": "5q3QpO0rEmEx"
      },
      "source": [
        "二階張量稱為矩陣。"
      ]
    },
    {
      "cell_type": "code",
      "metadata": {
        "id": "Yalfy3vLEmEx",
        "colab": {
          "base_uri": "https://localhost:8080/"
        },
        "outputId": "453d7882-a178-4cc8-a7a8-ec05d8fb060b"
      },
      "source": [
        "x = tf.constant([[1, 2, 3], [4, 5, 6]])\n",
        "print(\"{}階Tensor \".format(x.ndim))    # 顯示Tensor的維度"
      ],
      "execution_count": null,
      "outputs": [
        {
          "output_type": "stream",
          "text": [
            "2階Tensor \n"
          ],
          "name": "stdout"
        }
      ]
    },
    {
      "cell_type": "markdown",
      "metadata": {
        "id": "Q9G1Y1vuEmEx"
      },
      "source": [
        "---\n",
        "## Eager Execution\n",
        "\n",
        "\n",
        "TensorFlow 引入了「Eager Execution」動態圖模式，這個模式在TensorFlow2.0為預設模式，不同與以往的靜態圖模式需要建立計算圖才能執行，Eager Execution模式一旦執行就會返回數值。這使TensorFlow 更容易入門，也使研發更直觀。\n",
        "\n",
        "**Eager Execution 的優點如下：**\n",
        "\n",
        "- 立即返回數值，方便除錯。\n",
        "- 無需 Session.run() 就可以把它們的值返回到 Python。\n",
        "- 為自定義和高階梯度提供強大支援。\n",
        "- 幾乎所有 TensorFlow 運算都適用。\n",
        "\n",
        "\n",
        "**TensorFlow 1.x 和 TensorFlow2.0比較：**\n",
        "```\n",
        "TensorFlow 1.x code:\n",
        ">>> a = tf.constant(1)\n",
        ">>> print(a)\n",
        "Tensor(\"Const_5:0\", shape=(), dtype=int32)\n",
        "\n",
        ">>> sess = tf.Session()\n",
        ">>> print(\"a = {}\".format(sess.run(a)))\n",
        "a = 1\n",
        "\n",
        "\n",
        "TensorFlow 2.0 code:\n",
        ">>> a = tf.constant(1)\n",
        ">>> print(a)\n",
        "tf.Tensor(1, shape=(), dtype=int32)\n",
        "```"
      ]
    },
    {
      "cell_type": "markdown",
      "metadata": {
        "id": "Fmpv_TB0EmEx"
      },
      "source": [
        "**TensorFlow 基本運算：**\n",
        "\n",
        "Import 必要套件"
      ]
    },
    {
      "cell_type": "code",
      "metadata": {
        "id": "XAFTQTbpEmEy",
        "colab": {
          "base_uri": "https://localhost:8080/"
        },
        "outputId": "09e26682-fe3f-43fa-e6fd-307a0a1f7609"
      },
      "source": [
        "import numpy as np\n",
        "import tensorflow as tf\n",
        "\n",
        "print(\"Eager Execution 是否啟動: {}\".format(tf.executing_eagerly()))"
      ],
      "execution_count": null,
      "outputs": [
        {
          "output_type": "stream",
          "text": [
            "Eager Execution 是否啟動: True\n"
          ],
          "name": "stdout"
        }
      ]
    },
    {
      "cell_type": "markdown",
      "metadata": {
        "id": "6YfygvMrEmEy"
      },
      "source": [
        "定義常數 Tensor"
      ]
    },
    {
      "cell_type": "code",
      "metadata": {
        "id": "lxcz7-IgEmEy",
        "colab": {
          "base_uri": "https://localhost:8080/"
        },
        "outputId": "d5aaa1a5-a0ff-4550-bb5e-4f439768ac46"
      },
      "source": [
        "a = tf.constant(3)\n",
        "b = tf.constant(4)\n",
        "print(\"a = {}\".format(a))\n",
        "print(\"b = {}\".format(b))"
      ],
      "execution_count": null,
      "outputs": [
        {
          "output_type": "stream",
          "text": [
            "a = 3\n",
            "b = 4\n"
          ],
          "name": "stdout"
        }
      ]
    },
    {
      "cell_type": "markdown",
      "metadata": {
        "id": "xKF8ByDlEmEy"
      },
      "source": [
        "檢查資料型態"
      ]
    },
    {
      "cell_type": "code",
      "metadata": {
        "id": "5xiYLnkjEmEy",
        "colab": {
          "base_uri": "https://localhost:8080/"
        },
        "outputId": "d381bb95-1b29-4aab-9ee7-220a503e24d1"
      },
      "source": [
        "print(a)\n",
        "print(b)"
      ],
      "execution_count": null,
      "outputs": [
        {
          "output_type": "stream",
          "text": [
            "tf.Tensor(3, shape=(), dtype=int32)\n",
            "tf.Tensor(4, shape=(), dtype=int32)\n"
          ],
          "name": "stdout"
        }
      ]
    },
    {
      "cell_type": "markdown",
      "metadata": {
        "id": "jnrR-t7wEmEz"
      },
      "source": [
        "基本的運算"
      ]
    },
    {
      "cell_type": "code",
      "metadata": {
        "id": "WgcrCypXEmEz",
        "colab": {
          "base_uri": "https://localhost:8080/"
        },
        "outputId": "523913aa-c7f8-4bee-86db-80e09ced4020"
      },
      "source": [
        "c = a + b\n",
        "print(\"a + b = {}\".format(c))\n",
        "d = a * b\n",
        "print(\"a * b = {}\".format(d))"
      ],
      "execution_count": null,
      "outputs": [
        {
          "output_type": "stream",
          "text": [
            "a + b = 7\n",
            "a * b = 12\n"
          ],
          "name": "stdout"
        }
      ]
    },
    {
      "cell_type": "markdown",
      "metadata": {
        "id": "UOe-yZQOEmEz"
      },
      "source": [
        "2D Tensor 的運算，在Eager Execution模式下可以混和 Tensor 和 Numpy 做運算"
      ]
    },
    {
      "cell_type": "code",
      "metadata": {
        "id": "iXOJFlYTEmEz",
        "colab": {
          "base_uri": "https://localhost:8080/"
        },
        "outputId": "8e14f06e-413f-4511-d04c-7ebb51c7ec5a"
      },
      "source": [
        "a = tf.constant([[1., 2.], [3., 4.]], dtype=tf.float32)\n",
        "b = np.array([[1., 0.], [2., 3.]], dtype=np.float32)\n",
        "print(\"a constant: {}D Tensor\".format(a.ndim))\n",
        "\n",
        "c = a + b\n",
        "print(\"a + b = \\n{}\".format(c))\n",
        "d = tf.matmul(a, b)\n",
        "print(\"a * b = \\n{}\".format(d))"
      ],
      "execution_count": null,
      "outputs": [
        {
          "output_type": "stream",
          "text": [
            "a constant: 2D Tensor\n",
            "a + b = \n",
            "[[2. 2.]\n",
            " [5. 7.]]\n",
            "a * b = \n",
            "[[ 5.  6.]\n",
            " [11. 12.]]\n"
          ],
          "name": "stdout"
        }
      ]
    },
    {
      "cell_type": "markdown",
      "metadata": {
        "id": "kEw8ymuVEmE0"
      },
      "source": [
        "輸出的結果為 Tensor 格式，我們可以將它轉為 Numpy 格式"
      ]
    },
    {
      "cell_type": "code",
      "metadata": {
        "id": "9Tj3jUcBEmE0",
        "colab": {
          "base_uri": "https://localhost:8080/"
        },
        "outputId": "afc48922-3231-422c-fb82-7ce5dd015130"
      },
      "source": [
        "print(c)\n",
        "print(\"NumpyArray:\\n {}\".format(c.numpy()))"
      ],
      "execution_count": null,
      "outputs": [
        {
          "output_type": "stream",
          "text": [
            "tf.Tensor(\n",
            "[[2. 2.]\n",
            " [5. 7.]], shape=(2, 2), dtype=float32)\n",
            "NumpyArray:\n",
            " [[2. 2.]\n",
            " [5. 7.]]\n"
          ],
          "name": "stdout"
        }
      ]
    },
    {
      "cell_type": "markdown",
      "metadata": {
        "id": "2o5c8xZBEmE0"
      },
      "source": [
        "計算梯度"
      ]
    },
    {
      "cell_type": "code",
      "metadata": {
        "id": "Q4OTJM_lEmE0",
        "colab": {
          "base_uri": "https://localhost:8080/"
        },
        "outputId": "df097686-3a58-444f-ecba-107cea415455"
      },
      "source": [
        "w = tf.Variable([[1.0]])\n",
        "with tf.GradientTape() as tape:\n",
        "    loss = w * w\n",
        "\n",
        "grad = tape.gradient(loss, w)\n",
        "print(grad)"
      ],
      "execution_count": null,
      "outputs": [
        {
          "output_type": "stream",
          "text": [
            "tf.Tensor([[2.]], shape=(1, 1), dtype=float32)\n"
          ],
          "name": "stdout"
        }
      ]
    },
    {
      "cell_type": "markdown",
      "metadata": {
        "id": "e7C9b9hoEmE0"
      },
      "source": [
        "---\n",
        "## Keras\n",
        "\n",
        "TensorFlow2.0將Keras納為內建高階API，因此不必再而外安裝keras套件，直接透過`tf.keras`指令使用。相較於`tf.keras`和`keras`的差別，`tf.keras`更能全面支援tensorflow的指令與模式，例如支援Eager Exection, tf.data, TPU訓練等等。\n",
        "\n",
        "下面將會介紹兩種最常使用的網路搭建方法：\n",
        "- Sequential Model (序列模型)\n",
        "- Function API (函數式模型)"
      ]
    },
    {
      "cell_type": "markdown",
      "metadata": {
        "id": "JBJnuX7lEmE0"
      },
      "source": [
        "### Import 必要套件"
      ]
    },
    {
      "cell_type": "code",
      "metadata": {
        "id": "iv6CG83aEmE1"
      },
      "source": [
        "import tensorflow as tf\n",
        "from tensorflow import keras\n",
        "from tensorflow.keras import layers\n",
        "from tensorflow.keras.utils import plot_model\n",
        "from IPython.display import Image"
      ],
      "execution_count": null,
      "outputs": []
    },
    {
      "cell_type": "markdown",
      "metadata": {
        "id": "vxyP-U29EmE1"
      },
      "source": [
        "### Sequential Model\n",
        "\n",
        "Sequential Model有兩種方法搭建，下面為分類問題範例：輸入為28x28 (拉平為784的一維向量)的影像，輸出為10 (分為十個類別)。\n",
        "\n",
        "**Ex1：**"
      ]
    },
    {
      "cell_type": "code",
      "metadata": {
        "id": "zBojI3nzEmE1"
      },
      "source": [
        "model = keras.Sequential(name='Sequential')\n",
        "model.add(layers.Dense(64, activation='relu', input_shape=(784,)))\n",
        "model.add(layers.Dense(64, activation='relu'))\n",
        "model.add(layers.Dense(10, activation='softmax'))"
      ],
      "execution_count": null,
      "outputs": []
    },
    {
      "cell_type": "markdown",
      "metadata": {
        "id": "Uy3zn8qDEmE1"
      },
      "source": [
        "**Ex2：**"
      ]
    },
    {
      "cell_type": "code",
      "metadata": {
        "id": "OXPiO9Z4EmE1"
      },
      "source": [
        "model = tf.keras.Sequential([layers.Dense(64, activation='relu', input_shape=(784,)),\n",
        "                             layers.Dense(64, activation='relu'), \n",
        "                             layers.Dense(10, activation='softmax')])"
      ],
      "execution_count": null,
      "outputs": []
    },
    {
      "cell_type": "markdown",
      "metadata": {
        "id": "3wxTWFzjEmE1"
      },
      "source": [
        "顯示出剛剛搭建的網路"
      ]
    },
    {
      "cell_type": "code",
      "metadata": {
        "id": "4uOu04z4EmE2",
        "colab": {
          "base_uri": "https://localhost:8080/",
          "height": 369
        },
        "outputId": "9476fa96-c3c3-4739-d26f-aba9a452978e"
      },
      "source": [
        "# 產生網絡拓撲圖\n",
        "plot_model(model, to_file='Sequential_Model.png')\n",
        "\n",
        "# 秀出網絡拓撲圖\n",
        "Image('Sequential_Model.png')"
      ],
      "execution_count": null,
      "outputs": [
        {
          "output_type": "execute_result",
          "data": {
            "image/png": "[encoded data removed]",
            "text/plain": [
              "<IPython.core.display.Image object>"
            ]
          },
          "metadata": {
            "tags": []
          },
          "execution_count": 25
        }
      ]
    },
    {
      "cell_type": "markdown",
      "metadata": {
        "id": "RnKfbUCmEmE5"
      },
      "source": [
        "### Functional API\n",
        "**1. Sample Network：**使用Functional API 一樣可以快速幾行代碼完成和上面Sequential Model 相同的架構。"
      ]
    },
    {
      "cell_type": "code",
      "metadata": {
        "id": "Rfp6zKH3EmE5",
        "colab": {
          "base_uri": "https://localhost:8080/",
          "height": 369
        },
        "outputId": "906e5f53-b96b-4cac-adc3-a3d8281b34e2"
      },
      "source": [
        "inputs = keras.Input(shape=(784,), name='Input')\n",
        "hidden1 = layers.Dense(64, activation='relu', name='hidden1')(inputs)\n",
        "hidden2 = layers.Dense(64, activation='relu', name='hidden2')(hidden1)\n",
        "outputs = layers.Dense(10, activation='softmax', name='Output')(hidden2)\n",
        "\n",
        "model = keras.Model(inputs=inputs, outputs=outputs)\n",
        "\n",
        "# 產生網絡拓撲圖\n",
        "plot_model(model, to_file='Functional_API_Sample_Model.png')\n",
        "\n",
        "# 秀出網絡拓撲圖\n",
        "Image('Functional_API_Sample_Model.png')"
      ],
      "execution_count": null,
      "outputs": [
        {
          "output_type": "execute_result",
          "data": {
            "image/png": "[encoded data removed]",
            "text/plain": [
              "<IPython.core.display.Image object>"
            ]
          },
          "metadata": {
            "tags": []
          },
          "execution_count": 26
        }
      ]
    },
    {
      "cell_type": "markdown",
      "metadata": {
        "id": "n-AFKnzjEmE5"
      },
      "source": [
        "**Multi Input Model：**多輸入單輸出模型，下面的範例為商品價格預測，要預測商品價格，我們需要商品照片、品牌、使用狀況等等。而商品圖片和品牌我們可以經過不同層輸入並做不同的處理，網路架構如下。"
      ]
    },
    {
      "cell_type": "code",
      "metadata": {
        "id": "j-rfWSgTEmE5",
        "colab": {
          "base_uri": "https://localhost:8080/",
          "height": 661
        },
        "outputId": "ec70328f-ccb3-4b55-e594-352e5ca8948e"
      },
      "source": [
        "img_input = keras.Input(shape=(28, 28, 1), name='Image_Input')\n",
        "info_input = keras.Input(shape=(1, ), name='Information_Input')\n",
        "\n",
        "hidden1_1 = layers.Conv2D(64, kernel_size=5, strides=2, activation='relu', name='hidden1_1')(img_input)\n",
        "hidden1_2 = layers.Conv2D(32, kernel_size=5, strides=2, activation='relu', name='hidden1_2')(hidden1_1)\n",
        "hidden1_2_ft= layers.Flatten()(hidden1_2)\n",
        "hidden1_3 = layers.Dense(64, activation='relu', name='hidden1_3')(info_input)\n",
        "concat = layers.Concatenate()([hidden1_2_ft, hidden1_3])\n",
        "hidden2 = layers.Dense(64, activation='relu', name='hidden2')(concat)\n",
        "outputs = layers.Dense(1, name='Output')(hidden2)\n",
        "\n",
        "model = keras.Model(inputs=[img_input, info_input], outputs=outputs)\n",
        "\n",
        "# 產生網絡拓撲圖\n",
        "plot_model(model, to_file='Functional_API_Multi_Input_Model.png')\n",
        "\n",
        "# 秀出網絡拓撲圖\n",
        "Image('Functional_API_Multi_Input_Model.png')"
      ],
      "execution_count": null,
      "outputs": [
        {
          "output_type": "execute_result",
          "data": {
            "image/png": "[encoded data removed]",
            "text/plain": [
              "<IPython.core.display.Image object>"
            ]
          },
          "metadata": {
            "tags": []
          },
          "execution_count": 27
        }
      ]
    },
    {
      "cell_type": "markdown",
      "metadata": {
        "id": "FlcS875REmE5"
      },
      "source": [
        "**Multi Output Network：**單輸入多輸出模型，這種類型的架構在影響處理的領域很長看到，下面舉幾個常見多輸出模型應用例子。\n",
        "\n",
        "- 物件偵測：輸入一張圖像，預測物件位置與物件類別等。\n",
        "- 人像識別：輸入一張圖像，預測圖片中人的性別、年齡等。"
      ]
    },
    {
      "cell_type": "code",
      "metadata": {
        "id": "Jn3JPDASEmE6",
        "colab": {
          "base_uri": "https://localhost:8080/",
          "height": 564
        },
        "outputId": "dd87aa34-ae5b-4f32-b294-47589e088f6c"
      },
      "source": [
        "inputs = keras.Input(shape=(28, 28, 1), name='Input')\n",
        "\n",
        "hidden1 = layers.Conv2D(64, kernel_size=3, activation='relu', name='hidden1')(inputs)\n",
        "hidden2 = layers.Conv2D(64, kernel_size=3, strides=2, activation='relu', name='hidden2')(hidden1)\n",
        "hidden3 = layers.Conv2D(64, kernel_size=3, strides=2, activation='relu', name='hidden3')(hidden2)\n",
        "flatten = layers.Flatten()(hidden3)\n",
        "\n",
        "age_output = layers.Dense(1, name='Age_Output')(flatten)\n",
        "gender_output = layers.Dense(1, name='Gender_Output')(flatten)\n",
        "\n",
        "model = keras.Model(inputs=inputs, outputs=[age_output, gender_output])\n",
        "\n",
        "# 產生網絡拓撲圖\n",
        "plot_model(model, to_file='Functional_API_Multi_Output_Model.png')\n",
        "\n",
        "# 秀出網絡拓撲圖\n",
        "Image('Functional_API_Multi_Output_Model.png')"
      ],
      "execution_count": null,
      "outputs": [
        {
          "output_type": "execute_result",
          "data": {
            "image/png": "[encoded data removed]",
            "text/plain": [
              "<IPython.core.display.Image object>"
            ]
          },
          "metadata": {
            "tags": []
          },
          "execution_count": 28
        }
      ]
    },
    {
      "cell_type": "markdown",
      "metadata": {
        "id": "8Im6wF0aEmE6"
      },
      "source": [
        "**Multi Input and Multi Output Network：**多輸入多輸出模型，例如天氣預測，輸入可能為當前的天氣資訊和衛星雲圖，而輸出就是降雨機率、溫度和濕度等。"
      ]
    },
    {
      "cell_type": "code",
      "metadata": {
        "id": "dEvsppwREmE6",
        "colab": {
          "base_uri": "https://localhost:8080/",
          "height": 661
        },
        "outputId": "b942c37c-7c8d-4313-c4b3-ae167342bc95"
      },
      "source": [
        "image_inputs = keras.Input(shape=(28, 28, 1), name='Image_Input')\n",
        "hidden1 = layers.Conv2D(64, kernel_size=3, activation='relu', name='hidden1')(image_inputs)\n",
        "hidden2 = layers.Conv2D(64, kernel_size=3, strides=2, activation='relu', name='hidden2')(hidden1)\n",
        "hidden3 = layers.Conv2D(64, kernel_size=3, strides=2, activation='relu', name='hidden3')(hidden2)\n",
        "flatten = layers.Flatten()(hidden3)\n",
        "\n",
        "info_inputs = keras.Input(shape=(10, ), name='Info_Input')\n",
        "hidden4 = layers.Dense(64)(info_inputs)\n",
        "\n",
        "concat = layers.Concatenate()([flatten, hidden4])\n",
        "\n",
        "weather_outputs = layers.Dense(1, name='Output1')(concat)\n",
        "temp_outputs = layers.Dense(1, name='Output2')(concat)\n",
        "humidity_outputs = layers.Dense(1, name='Output3')(concat)\n",
        "\n",
        "model = keras.Model(inputs=[image_inputs, info_inputs], \n",
        "                    outputs=[weather_outputs, temp_outputs, humidity_outputs])\n",
        "\n",
        "# 產生網絡拓撲圖\n",
        "plot_model(model, to_file='Functional_API_Multi_Input_Multi_Output_Model.png')\n",
        "\n",
        "# 秀出網絡拓撲圖\n",
        "Image('Functional_API_Multi_Input_Multi_Output_Model.png')"
      ],
      "execution_count": null,
      "outputs": [
        {
          "output_type": "execute_result",
          "data": {
            "image/png": "[encoded data removed]",
            "text/plain": [
              "<IPython.core.display.Image object>"
            ]
          },
          "metadata": {
            "tags": []
          },
          "execution_count": 29
        }
      ]
    },
    {
      "cell_type": "markdown",
      "metadata": {
        "id": "PXu5bPmKEmE6"
      },
      "source": [
        "---\n",
        "## tf.data"
      ]
    },
    {
      "cell_type": "markdown",
      "metadata": {
        "id": "GBCBVm3pEmE7"
      },
      "source": [
        "### 基本操作"
      ]
    },
    {
      "cell_type": "markdown",
      "metadata": {
        "id": "G11RqaJeEmE7"
      },
      "source": [
        "1.`tf.data.Dataset.from_tensors`"
      ]
    },
    {
      "cell_type": "code",
      "metadata": {
        "id": "xzU1tjI3EmE7",
        "colab": {
          "base_uri": "https://localhost:8080/"
        },
        "outputId": "5423546d-39ce-4171-89d1-4763183aae40"
      },
      "source": [
        "dataset = tf.data.Dataset.from_tensors(tf.constant([1, 2, 3, 4, 5, 6, 7, 8, 9, 10], shape=(10, )))\n",
        "print(dataset)"
      ],
      "execution_count": null,
      "outputs": [
        {
          "output_type": "stream",
          "text": [
            "<TensorDataset shapes: (10,), types: tf.int32>\n"
          ],
          "name": "stdout"
        }
      ]
    },
    {
      "cell_type": "markdown",
      "metadata": {
        "id": "h5XYgJOREmE7"
      },
      "source": [
        "2.`tf.data.Dataset.from_tensor_slices`"
      ]
    },
    {
      "cell_type": "code",
      "metadata": {
        "id": "1lFyTbUoEmE8",
        "colab": {
          "base_uri": "https://localhost:8080/"
        },
        "outputId": "2b0a0d41-617b-4d23-9165-f711f90cdd44"
      },
      "source": [
        "x_data = tf.data.Dataset.from_tensor_slices(tf.constant([0, 1, 2, 3, 4, 5, 6, 7, 8, 9], shape=(10, )))\n",
        "print(x_data)\n",
        "\n",
        "y_data = tf.data.Dataset.from_tensor_slices(tf.constant([0, 2, 4, 6, 8, 10, 12, 14, 16, 18], shape=(10, )))\n",
        "print(y_data)"
      ],
      "execution_count": null,
      "outputs": [
        {
          "output_type": "stream",
          "text": [
            "<TensorSliceDataset shapes: (), types: tf.int32>\n",
            "<TensorSliceDataset shapes: (), types: tf.int32>\n"
          ],
          "name": "stdout"
        }
      ]
    },
    {
      "cell_type": "markdown",
      "metadata": {
        "id": "4l4j4ZuYEmE8"
      },
      "source": [
        "3.`for loop`讀取數據："
      ]
    },
    {
      "cell_type": "code",
      "metadata": {
        "id": "EwtUhTsOEmE8",
        "colab": {
          "base_uri": "https://localhost:8080/"
        },
        "outputId": "ce016dc5-2ecd-49e4-90d8-01bb51a9b841"
      },
      "source": [
        "for data in dataset:\n",
        "    print(data)"
      ],
      "execution_count": null,
      "outputs": [
        {
          "output_type": "stream",
          "text": [
            "tf.Tensor([ 1  2  3  4  5  6  7  8  9 10], shape=(10,), dtype=int32)\n"
          ],
          "name": "stdout"
        }
      ]
    },
    {
      "cell_type": "code",
      "metadata": {
        "id": "V28eM1yREmE8",
        "colab": {
          "base_uri": "https://localhost:8080/"
        },
        "outputId": "7f9c0a9c-6fce-479b-f62e-48875d8c3867"
      },
      "source": [
        "for data1, data2 in zip(x_data, y_data):\n",
        "    print('x: {}, y: {}'.format(data1, data2))"
      ],
      "execution_count": null,
      "outputs": [
        {
          "output_type": "stream",
          "text": [
            "x: 0, y: 0\n",
            "x: 1, y: 2\n",
            "x: 2, y: 4\n",
            "x: 3, y: 6\n",
            "x: 4, y: 8\n",
            "x: 5, y: 10\n",
            "x: 6, y: 12\n",
            "x: 7, y: 14\n",
            "x: 8, y: 16\n",
            "x: 9, y: 18\n"
          ],
          "name": "stdout"
        }
      ]
    },
    {
      "cell_type": "markdown",
      "metadata": {
        "id": "wS4dL25_EmE8"
      },
      "source": [
        "3.`take`：讀取資料"
      ]
    },
    {
      "cell_type": "code",
      "metadata": {
        "id": "smKBHEPYEmE9",
        "colab": {
          "base_uri": "https://localhost:8080/"
        },
        "outputId": "122929bc-00a3-436b-fe66-40164c101418"
      },
      "source": [
        "for data in dataset:\n",
        "    print(data)"
      ],
      "execution_count": null,
      "outputs": [
        {
          "output_type": "stream",
          "text": [
            "tf.Tensor([ 1  2  3  4  5  6  7  8  9 10], shape=(10,), dtype=int32)\n"
          ],
          "name": "stdout"
        }
      ]
    },
    {
      "cell_type": "code",
      "metadata": {
        "id": "op0AsankEmE9",
        "colab": {
          "base_uri": "https://localhost:8080/"
        },
        "outputId": "3385798f-b7c4-4408-edcc-d99b946932f6"
      },
      "source": [
        "for data1, data2 in zip(x_data.take(5), y_data.take(5)):\n",
        "    print('x: {}, y: {}'.format(data1, data2))"
      ],
      "execution_count": null,
      "outputs": [
        {
          "output_type": "stream",
          "text": [
            "x: 0, y: 0\n",
            "x: 1, y: 2\n",
            "x: 2, y: 4\n",
            "x: 3, y: 6\n",
            "x: 4, y: 8\n"
          ],
          "name": "stdout"
        }
      ]
    },
    {
      "cell_type": "code",
      "metadata": {
        "id": "w-EKkFVOEmE9",
        "colab": {
          "base_uri": "https://localhost:8080/"
        },
        "outputId": "da2cbe66-3c76-4e99-c513-3c481c90afdb"
      },
      "source": [
        "for data1, data2 in zip(x_data.take(12), y_data.take(12)):\n",
        "    print('x: {}, y: {}'.format(data1, data2))"
      ],
      "execution_count": null,
      "outputs": [
        {
          "output_type": "stream",
          "text": [
            "x: 0, y: 0\n",
            "x: 1, y: 2\n",
            "x: 2, y: 4\n",
            "x: 3, y: 6\n",
            "x: 4, y: 8\n",
            "x: 5, y: 10\n",
            "x: 6, y: 12\n",
            "x: 7, y: 14\n",
            "x: 8, y: 16\n",
            "x: 9, y: 18\n"
          ],
          "name": "stdout"
        }
      ]
    },
    {
      "cell_type": "markdown",
      "metadata": {
        "id": "-P2W9VvcEmE9"
      },
      "source": [
        "5.`tf.data.Dataset.zip`"
      ]
    },
    {
      "cell_type": "code",
      "metadata": {
        "id": "Aqoaif2_EmE9",
        "colab": {
          "base_uri": "https://localhost:8080/"
        },
        "outputId": "342c637b-f2a5-4490-cd8e-a3fec5d18c9f"
      },
      "source": [
        "dataset = tf.data.Dataset.zip((x_data, y_data))\n",
        "print(dataset)"
      ],
      "execution_count": null,
      "outputs": [
        {
          "output_type": "stream",
          "text": [
            "<ZipDataset shapes: ((), ()), types: (tf.int32, tf.int32)>\n"
          ],
          "name": "stdout"
        }
      ]
    },
    {
      "cell_type": "markdown",
      "metadata": {
        "id": "6ChIDep9EmE-"
      },
      "source": [
        "6.`map`：可以使用map來轉換數據"
      ]
    },
    {
      "cell_type": "code",
      "metadata": {
        "id": "Jo3LZBBAEmE-",
        "colab": {
          "base_uri": "https://localhost:8080/"
        },
        "outputId": "a1ee5687-026a-438b-d501-e34747a96c68"
      },
      "source": [
        "tf.data.Dataset.range(10).map(lambda x: x*2)"
      ],
      "execution_count": null,
      "outputs": [
        {
          "output_type": "execute_result",
          "data": {
            "text/plain": [
              "<MapDataset shapes: (), types: tf.int64>"
            ]
          },
          "metadata": {
            "tags": []
          },
          "execution_count": 52
        }
      ]
    },
    {
      "cell_type": "markdown",
      "metadata": {
        "id": "cwqxEb6gEmE-"
      },
      "source": [
        "7.命名：可以字典方式為elements的組件命名"
      ]
    },
    {
      "cell_type": "code",
      "metadata": {
        "id": "q60BAhB9EmE-",
        "colab": {
          "base_uri": "https://localhost:8080/"
        },
        "outputId": "0adb69a1-3e99-445c-d59b-d8e158289e93"
      },
      "source": [
        "x = tf.data.Dataset.range(10)\n",
        "y = tf.data.Dataset.range(10).map(lambda x: x*2)\n",
        "\n",
        "dataset = tf.data.Dataset.zip({\"x\": x, \"y\": y})\n",
        "print(dataset)"
      ],
      "execution_count": null,
      "outputs": [
        {
          "output_type": "stream",
          "text": [
            "<ZipDataset shapes: {x: (), y: ()}, types: {x: tf.int64, y: tf.int64}>\n"
          ],
          "name": "stdout"
        }
      ]
    },
    {
      "cell_type": "code",
      "metadata": {
        "id": "6flw6Ht5EmE-",
        "colab": {
          "base_uri": "https://localhost:8080/"
        },
        "outputId": "303243dd-e109-4fac-b2d5-c540aac3ceb6"
      },
      "source": [
        "for data in dataset.take(10):\n",
        "    print('x: {}, y: {}'.format(data['x'], data['y']))"
      ],
      "execution_count": null,
      "outputs": [
        {
          "output_type": "stream",
          "text": [
            "x: 0, y: 0\n",
            "x: 1, y: 2\n",
            "x: 2, y: 4\n",
            "x: 3, y: 6\n",
            "x: 4, y: 8\n",
            "x: 5, y: 10\n",
            "x: 6, y: 12\n",
            "x: 7, y: 14\n",
            "x: 8, y: 16\n",
            "x: 9, y: 18\n"
          ],
          "name": "stdout"
        }
      ]
    },
    {
      "cell_type": "markdown",
      "metadata": {
        "id": "e9YSk16PEmE-"
      },
      "source": [
        "8.設定每batch讀取的數量"
      ]
    },
    {
      "cell_type": "code",
      "metadata": {
        "id": "x-JsvrLDEmE_",
        "colab": {
          "base_uri": "https://localhost:8080/"
        },
        "outputId": "bf4034b3-0948-44a0-b384-8d3f8009231d"
      },
      "source": [
        "dataset = tf.data.Dataset.zip({\"x\": x, \"y\": y}).batch(2)\n",
        "\n",
        "for data in dataset.take(5):\n",
        "    print('x: {}, y: {}'.format(data['x'], data['y']))"
      ],
      "execution_count": null,
      "outputs": [
        {
          "output_type": "stream",
          "text": [
            "x: [0 1], y: [0 2]\n",
            "x: [2 3], y: [4 6]\n",
            "x: [4 5], y: [ 8 10]\n",
            "x: [6 7], y: [12 14]\n",
            "x: [8 9], y: [16 18]\n"
          ],
          "name": "stdout"
        }
      ]
    },
    {
      "cell_type": "markdown",
      "metadata": {
        "id": "LcaSw-FXEmE_"
      },
      "source": [
        "9.`shuffle`：dataset資料 會被載入buffer中，並從buffer中隨機選取資料出來，取出資料產生的空位會從新的數據替補。而`buffer_size`是設定buffer大小，最好的設定是**大於**或**等於**整個dataset資料個個數。"
      ]
    },
    {
      "cell_type": "code",
      "metadata": {
        "id": "IdEIEkfcEmE_",
        "colab": {
          "base_uri": "https://localhost:8080/"
        },
        "outputId": "84343f1e-21ea-43ff-b046-62448e606a3e"
      },
      "source": [
        "dataset = dataset.shuffle(10)\n",
        "for data in dataset.take(5):\n",
        "    print('x: {}, y: {}'.format(data['x'], data['y']))"
      ],
      "execution_count": null,
      "outputs": [
        {
          "output_type": "stream",
          "text": [
            "x: [2 3], y: [4 6]\n",
            "x: [6 7], y: [12 14]\n",
            "x: [8 9], y: [16 18]\n",
            "x: [0 1], y: [0 2]\n",
            "x: [4 5], y: [ 8 10]\n"
          ],
          "name": "stdout"
        }
      ]
    },
    {
      "cell_type": "markdown",
      "metadata": {
        "id": "yBYbi3k2EmE_"
      },
      "source": [
        "10.`repeat`：當dataset的資料讀取完後就讀會取不到資料，透過設定`repeat(n)`可以重複讀取dataset n次。"
      ]
    },
    {
      "cell_type": "code",
      "metadata": {
        "id": "LgWbboRgEmE_",
        "colab": {
          "base_uri": "https://localhost:8080/"
        },
        "outputId": "e0d4120a-9733-4d00-ac4e-2f2185e9cc30"
      },
      "source": [
        "for data in dataset.take(10):\n",
        "    print('x: {}, y: {}'.format(data['x'], data['y']))\n",
        "\n",
        "    \n",
        "print('-' * 50)\n",
        "dataset = dataset.repeat(2)\n",
        "for data in dataset.take(10):\n",
        "    print('x: {}, y: {}'.format(data['x'], data['y']))"
      ],
      "execution_count": null,
      "outputs": [
        {
          "output_type": "stream",
          "text": [
            "x: [0 1], y: [0 2]\n",
            "x: [2 3], y: [4 6]\n",
            "x: [6 7], y: [12 14]\n",
            "x: [8 9], y: [16 18]\n",
            "x: [4 5], y: [ 8 10]\n",
            "--------------------------------------------------\n",
            "x: [2 3], y: [4 6]\n",
            "x: [6 7], y: [12 14]\n",
            "x: [4 5], y: [ 8 10]\n",
            "x: [0 1], y: [0 2]\n",
            "x: [8 9], y: [16 18]\n",
            "x: [0 1], y: [0 2]\n",
            "x: [2 3], y: [4 6]\n",
            "x: [4 5], y: [ 8 10]\n",
            "x: [6 7], y: [12 14]\n",
            "x: [8 9], y: [16 18]\n"
          ],
          "name": "stdout"
        }
      ]
    }
  ]
}